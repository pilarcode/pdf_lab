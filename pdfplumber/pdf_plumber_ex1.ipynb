{
 "cells": [
  {
   "cell_type": "markdown",
   "metadata": {},
   "source": [
    "### pdfplumber\n",
    "\n",
    "https://pypi.org/project/pdfplumber/"
   ]
  },
  {
   "cell_type": "code",
   "execution_count": 21,
   "metadata": {},
   "outputs": [],
   "source": [
    "source = \"../AutoGen_LLM_agent.pdf\""
   ]
  },
  {
   "cell_type": "code",
   "execution_count": 22,
   "metadata": {},
   "outputs": [],
   "source": [
    "import pdfplumber\n",
    "\n",
    "pdf = pdfplumber.open(source)\n"
   ]
  },
  {
   "cell_type": "markdown",
   "metadata": {},
   "source": [
    "* Page 0"
   ]
  },
  {
   "cell_type": "code",
   "execution_count": 23,
   "metadata": {},
   "outputs": [
    {
     "name": "stdout",
     "output_type": "stream",
     "text": [
      "('PublishedasaconferencepaperatCOLM2024\\n'\n",
      " 'AutoGen: Enabling Next-Gen LLM Applications\\n'\n",
      " 'via Multi-Agent Conversations\\n'\n",
      " 'QingyunWu∗ GaganBansal JieyuZhang\\n'\n",
      " 'PennStateUniversity MicrosoftResearch UniversityofWashington\\n'\n",
      " 'qingyun@autogen.team gaganbansal@microsoft.com jieyuz2@cs.washington.edu\\n'\n",
      " 'YiranWu BeibinLi ErkangZhu\\n'\n",
      " 'PennStateUniversity MicrosoftResearch MicrosoftResearch\\n'\n",
      " 'yiran.wu@psu.edu beibin.li@microsoft.com erkang.zhu@microsoft.com\\n'\n",
      " 'LiJiang XiaoyunZhang ShaokunZhang\\n'\n",
      " 'Microsoft Microsoft PennStateUniversity\\n'\n",
      " 'lijiang1@microsoft.com xiaoyun.zhang@microsoft.com shaokun.zhang@psu.edu\\n'\n",
      " 'JialeLiu AhmedAwadallah RyenW.White\\n'\n",
      " 'PennStateUniversity MicrosoftResearch MicrosoftResearch\\n'\n",
      " 'jjl7199@psu.edu hassanam@microsoft.com ryenw@microsoft.com\\n'\n",
      " 'DougBurger ChiWang*\\n'\n",
      " 'MicrosoftResearch MicrosoftResearch\\n'\n",
      " 'dburger@microsoft.com chi@autogen.team\\n'\n",
      " 'Abstract\\n'\n",
      " 'WepresentAutoGen,1anopen-sourceframeworkthatallowsdevelopersto\\n'\n",
      " 'buildLLMapplicationsbycomposingmultipleagentstoconversewitheach\\n'\n",
      " 'other to accomplish tasks. AutoGen agents are customizable, conversable,\\n'\n",
      " 'and can operate in various modes that employ combinations of LLMs,\\n'\n",
      " 'humaninputs,andtools. Italsoenablesdeveloperstocreateflexibleagent\\n'\n",
      " 'behaviorsandconversationpatternsfordifferentapplicationsusingboth\\n'\n",
      " 'natural language and code. AutoGen serves as a generic infrastructure\\n'\n",
      " 'and is widely used by AI practitioners and researchers to build diverse\\n'\n",
      " 'applicationsofvariouscomplexitiesandLLMcapacities. Wedemonstrate\\n'\n",
      " 'theframework’seffectivenesswithseveralpilotapplications,ondomains\\n'\n",
      " 'rangingfrommathematicsandcodingtoquestion-answering,supply-chain\\n'\n",
      " 'optimization,onlinedecision-making,andentertainment.\\n'\n",
      " '1 Introduction\\n'\n",
      " 'Largelanguagemodels(LLMs)arebecomingacrucialbuildingblockindevelopingpower-\\n'\n",
      " 'fulagentsthatutilizeLLMsforreasoning,toolusage,andadaptingtonewobservations(Yao\\n'\n",
      " 'etal.,2022;Xietal.,2023;Wangetal.,2023). '\n",
      " 'Asthescopeandcomplexityoftaskssuitable\\n'\n",
      " 'forLLMsincrease,anaturalstrategyforenhancingagentcapabilitiesistoemploymultiple\\n'\n",
      " 'cooperatingagents. '\n",
      " 'Priorworksuggeststhatmultipleagentscanhelpencouragedivergent\\n'\n",
      " 'thinking(Liangetal.,2023),improvefactualityandreasoning(Duetal.,2023;Naiketal.,\\n'\n",
      " '2023), andprovideguardrails(Wuetal.,2023). Giventheearlypromisingevidence, '\n",
      " 'an\\n'\n",
      " 'intriguingquestionis:HowcanwefacilitatethedevelopmentofLLMapplicationsthatspan\\n'\n",
      " 'abroadspectrumofdomainsandcomplexitiesusingamulti-agentapproach? Ourinsight\\n'\n",
      " '∗Equalcontribution\\n'\n",
      " '1https://github.com/microsoft/autogen\\n'\n",
      " '1')\n"
     ]
    }
   ],
   "source": [
    "from pprint import pprint\n",
    "\n",
    "page = pdf.pages[0]\n",
    "text = page.extract_text()\n",
    "pprint(text)"
   ]
  },
  {
   "cell_type": "code",
   "execution_count": 24,
   "metadata": {},
   "outputs": [
    {
     "name": "stdout",
     "output_type": "stream",
     "text": [
      "{'matrix': (1, 0, 0, 1, 108.0, 756.631), 'fontname': 'QLQOEZ+URWPalladioL-Roma', 'adv': 6.0174104, 'upright': True, 'x0': 108.0, 'y0': 753.8115842, 'x1': 114.0174104, 'y1': 763.7741841999999, 'width': 6.017410400000003, 'height': 9.962599999999952, 'size': 9.962599999999952, 'mcid': None, 'tag': None, 'object_type': 'char', 'page_number': 1, 'ncs': 'DeviceGray', 'text': 'P', 'stroking_color': (0,), 'stroking_pattern': None, 'non_stroking_color': (0,), 'non_stroking_pattern': None, 'top': 28.225815800000078, 'bottom': 38.18841580000003, 'doctop': 28.225815800000078}\n"
     ]
    }
   ],
   "source": [
    "import pdfplumber\n",
    "\n",
    "with pdfplumber.open(source) as pdf:\n",
    "    first_page = pdf.pages[0]\n",
    "    print(first_page.chars[0])"
   ]
  }
 ],
 "metadata": {
  "kernelspec": {
   "display_name": "ford_etl",
   "language": "python",
   "name": "python3"
  },
  "language_info": {
   "codemirror_mode": {
    "name": "ipython",
    "version": 3
   },
   "file_extension": ".py",
   "mimetype": "text/x-python",
   "name": "python",
   "nbconvert_exporter": "python",
   "pygments_lexer": "ipython3",
   "version": "3.12.8"
  }
 },
 "nbformat": 4,
 "nbformat_minor": 2
}
