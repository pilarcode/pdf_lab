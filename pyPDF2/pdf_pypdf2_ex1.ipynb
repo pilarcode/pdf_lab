{
 "cells": [
  {
   "cell_type": "markdown",
   "metadata": {},
   "source": [
    "\n",
    "### PyPDF2\n",
    "\n",
    "* https://pypi.org/project/PyPDF2/\n",
    "* https://pypi.org/project/pypdf/"
   ]
  },
  {
   "cell_type": "code",
   "execution_count": 1,
   "metadata": {},
   "outputs": [],
   "source": [
    "from PyPDF2 import PdfReader\n",
    "\n",
    "source = \"../AutoGen_LLM_agent.pdf\"\n",
    "reader = PdfReader(source)\n",
    "number_of_pages = len(reader.pages)"
   ]
  },
  {
   "cell_type": "code",
   "execution_count": 2,
   "metadata": {},
   "outputs": [
    {
     "data": {
      "text/plain": [
       "46"
      ]
     },
     "execution_count": 2,
     "metadata": {},
     "output_type": "execute_result"
    }
   ],
   "source": [
    "number_of_pages"
   ]
  },
  {
   "cell_type": "markdown",
   "metadata": {},
   "source": [
    "## Page 0"
   ]
  },
  {
   "cell_type": "code",
   "execution_count": 3,
   "metadata": {},
   "outputs": [],
   "source": [
    "\n",
    "page = reader.pages[0]\n",
    "text = page.extract_text()"
   ]
  },
  {
   "cell_type": "code",
   "execution_count": 4,
   "metadata": {},
   "outputs": [
    {
     "name": "stdout",
     "output_type": "stream",
     "text": [
      "('Published as a conference paper at COLM 2024\\n'\n",
      " 'AutoGen : Enabling Next-Gen LLM Applications\\n'\n",
      " 'via Multi-Agent Conversations\\n'\n",
      " 'Qingyun Wu∗\\n'\n",
      " 'Penn State University\\n'\n",
      " 'qingyun@autogen.teamGagan Bansal\\n'\n",
      " 'Microsoft Research\\n'\n",
      " 'gaganbansal@microsoft.comJieyu Zhang\\n'\n",
      " 'University of Washington\\n'\n",
      " 'jieyuz2@cs.washington.edu\\n'\n",
      " 'Yiran Wu\\n'\n",
      " 'Penn State University\\n'\n",
      " 'yiran.wu@psu.eduBeibin Li\\n'\n",
      " 'Microsoft Research\\n'\n",
      " 'beibin.li@microsoft.comErkang Zhu\\n'\n",
      " 'Microsoft Research\\n'\n",
      " 'erkang.zhu@microsoft.com\\n'\n",
      " 'Li Jiang\\n'\n",
      " 'Microsoft\\n'\n",
      " 'lijiang1@microsoft.comXiaoyun Zhang\\n'\n",
      " 'Microsoft\\n'\n",
      " 'xiaoyun.zhang@microsoft.comShaokun Zhang\\n'\n",
      " 'Penn State University\\n'\n",
      " 'shaokun.zhang@psu.edu\\n'\n",
      " 'Jiale Liu\\n'\n",
      " 'Penn State University\\n'\n",
      " 'jjl7199@psu.eduAhmed Awadallah\\n'\n",
      " 'Microsoft Research\\n'\n",
      " 'hassanam@microsoft.comRyen W. White\\n'\n",
      " 'Microsoft Research\\n'\n",
      " 'ryenw@microsoft.com\\n'\n",
      " 'Doug Burger\\n'\n",
      " 'Microsoft Research\\n'\n",
      " 'dburger@microsoft.comChi Wang*\\n'\n",
      " 'Microsoft Research\\n'\n",
      " 'chi@autogen.team\\n'\n",
      " 'Abstract\\n'\n",
      " 'We present AutoGen ,1an open-source framework that allows developers to\\n'\n",
      " 'build LLM applications by composing multiple agents to converse with each\\n'\n",
      " 'other to accomplish tasks. AutoGen agents are customizable, conversable ,\\n'\n",
      " 'and can operate in various modes that employ combinations of LLMs,\\n'\n",
      " 'human inputs, and tools. It also enables developers to create flexible '\n",
      " 'agent\\n'\n",
      " 'behaviors and conversation patterns for different applications using both\\n'\n",
      " 'natural language and code. AutoGen serves as a generic infrastructure\\n'\n",
      " 'and is widely used by AI practitioners and researchers to build diverse\\n'\n",
      " 'applications of various complexities and LLM capacities. We demonstrate\\n'\n",
      " 'the framework’s effectiveness with several pilot applications, on domains\\n'\n",
      " 'ranging from mathematics and coding to question-answering, supply-chain\\n'\n",
      " 'optimization, online decision-making, and entertainment.\\n'\n",
      " '1 Introduction\\n'\n",
      " 'Large language models (LLMs) are becoming a crucial building block in '\n",
      " 'developing power-\\n'\n",
      " 'fulagents that utilize LLMs for reasoning, tool usage, and adapting to new '\n",
      " 'observations (Yao\\n'\n",
      " 'et al., 2022; Xi et al., 2023; Wang et al., 2023). As the scope and '\n",
      " 'complexity of tasks suitable\\n'\n",
      " 'for LLMs increase, a natural strategy for enhancing agent capabilities is to '\n",
      " 'employ multiple\\n'\n",
      " 'cooperating agents. Prior work suggests that multiple agents can help '\n",
      " 'encourage divergent\\n'\n",
      " 'thinking (Liang et al., 2023), improve factuality and reasoning (Du et al., '\n",
      " '2023; Naik et al.,\\n'\n",
      " '2023), and provide guardrails (Wu et al., 2023). Given the early promising '\n",
      " 'evidence, an\\n'\n",
      " 'intriguing question is: How can we facilitate the development of LLM '\n",
      " 'applications that span\\n'\n",
      " 'a broad spectrum of domains and complexities using a multi-agent approach? '\n",
      " 'Our insight\\n'\n",
      " '∗Equal contribution\\n'\n",
      " '1https://github.com/microsoft/autogen\\n'\n",
      " '1')\n"
     ]
    }
   ],
   "source": [
    "from pprint import pprint\n",
    "pprint(text)"
   ]
  },
  {
   "cell_type": "markdown",
   "metadata": {},
   "source": [
    "## Page 44"
   ]
  },
  {
   "cell_type": "code",
   "execution_count": 5,
   "metadata": {},
   "outputs": [],
   "source": [
    "page = reader.pages[44]\n",
    "text = page.extract_text()"
   ]
  },
  {
   "cell_type": "code",
   "execution_count": 6,
   "metadata": {},
   "outputs": [
    {
     "name": "stdout",
     "output_type": "stream",
     "text": [
      "('Published as a conference paper at COLM 2024\\n'\n",
      " 'Table 17: Application A1, Scenario 1: Autonomous math problem-solving. '\n",
      " 'Preliminary\\n'\n",
      " 'evaluation on MetaGPT. It does not solve the math problem but gives a '\n",
      " 'product solution.\\n'\n",
      " 'Action MetaGPT\\n'\n",
      " '/usr Prompt Completely simplify and rationalize the denominator:\\n'\n",
      " '√\\n'\n",
      " '160√\\n'\n",
      " '252×√\\n'\n",
      " '245√\\n'\n",
      " '108\\n'\n",
      " ' The boss has tasked me with creating a successful product that is '\n",
      " 'efficient.\\n'\n",
      " '## Product Goals\\n'\n",
      " '1[\\n'\n",
      " '2 ``Create a product that meets the needs of the target\\n'\n",
      " 'market \",\\n'\n",
      " '3 ``Ensure the product is efficient and easy to use \",\\n'\n",
      " '4 ``Achieve a high level of customer satisfaction \"\\n'\n",
      " '5]\\n'\n",
      " '## User Stories\\n'\n",
      " '1[\\n'\n",
      " '2 ``As a user , I want a product that is easy to\\n'\n",
      " 'navigate so that I can find what I need quickly \",\\n'\n",
      " '3 ``As a user , I want a product that is reliable and\\n'\n",
      " 'efficient so that I can depend on it\",\\n'\n",
      " '4 ``As a user , I want a product that meets my needs so\\n'\n",
      " 'that I can get value for my money \",\\n'\n",
      " '5 ``As a user , I want a product that is constantly\\n'\n",
      " 'updated and improved so that I can enjoy the best\\n'\n",
      " 'features \",\\n'\n",
      " '6 ``As a user , I want a product that offers good\\n'\n",
      " 'customer support so that I can get help when I need it\\n'\n",
      " '\"\\n'\n",
      " '7]\\n'\n",
      " '## Competitive Analysis\\n'\n",
      " '1[\\n'\n",
      " '2 ``Product A: Offers similar features but lacks\\n'\n",
      " 'efficiency \",\\n'\n",
      " '3 ``Product B: Highly efficient but does not meet all\\n'\n",
      " 'the needs of the target market \",\\n'\n",
      " '4 ``Product C: Has a high level of customer\\n'\n",
      " 'satisfaction but is not easy to navigate \",\\n'\n",
      " '5 ``Product D: Is constantly updated and improved but\\n'\n",
      " 'lacks reliability \",\\n'\n",
      " '6 ``Product E: Offers good customer support but is not\\n'\n",
      " 'efficient \",\\n'\n",
      " '7 ``Product F: Is reliable and efficient but does not\\n'\n",
      " 'offer good customer support \",\\n'\n",
      " '8 ``Our Target Product : Aims to combine all the best\\n'\n",
      " 'features of the competitors while improving on their\\n'\n",
      " 'weaknesses \"\\n'\n",
      " '9]\\n'\n",
      " '## Competitive Quadrant Chart\\n'\n",
      " '/usr Human Abort\\n'\n",
      " '45')\n"
     ]
    }
   ],
   "source": [
    "pprint(text)"
   ]
  }
 ],
 "metadata": {
  "kernelspec": {
   "display_name": "ford_etl",
   "language": "python",
   "name": "python3"
  },
  "language_info": {
   "codemirror_mode": {
    "name": "ipython",
    "version": 3
   },
   "file_extension": ".py",
   "mimetype": "text/x-python",
   "name": "python",
   "nbconvert_exporter": "python",
   "pygments_lexer": "ipython3",
   "version": "3.12.8"
  }
 },
 "nbformat": 4,
 "nbformat_minor": 2
}
