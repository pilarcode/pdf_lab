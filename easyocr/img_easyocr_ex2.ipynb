{
 "cells": [
  {
   "cell_type": "markdown",
   "metadata": {},
   "source": [
    "### easyocr\n",
    "\n",
    "* https://pypi.org/project/easyocr/\n",
    "* https://github.com/JaidedAI/EasyOCR.git"
   ]
  },
  {
   "cell_type": "code",
   "execution_count": 1,
   "metadata": {},
   "outputs": [],
   "source": [
    "image_path = \"../070ZNNLE73289_S1097.png\""
   ]
  },
  {
   "cell_type": "code",
   "execution_count": null,
   "metadata": {},
   "outputs": [],
   "source": [
    "import easyocr\n",
    "\n",
    "# Initialize the reader with the desired languages\n",
    "reader = easyocr.Reader(['en'])\n",
    "\n",
    "# Perform OCR on an image file\n",
    "results = reader.readtext(image_path)\n",
    "\n",
    "# Print the results\n",
    "for (bbox, text, prob) in results:\n",
    "    print(f\"Detected text: {text} (Confidence: {prob:.2f})\")\n"
   ]
  }
 ],
 "metadata": {
  "kernelspec": {
   "display_name": "ford_etl",
   "language": "python",
   "name": "python3"
  },
  "language_info": {
   "codemirror_mode": {
    "name": "ipython",
    "version": 3
   },
   "file_extension": ".py",
   "mimetype": "text/x-python",
   "name": "python",
   "nbconvert_exporter": "python",
   "pygments_lexer": "ipython3",
   "version": "3.12.8"
  }
 },
 "nbformat": 4,
 "nbformat_minor": 2
}
